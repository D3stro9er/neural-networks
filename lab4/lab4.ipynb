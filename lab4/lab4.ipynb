{
  "nbformat": 4,
  "nbformat_minor": 0,
  "metadata": {
    "colab": {
      "name": "lab4.ipynb",
      "provenance": [],
      "authorship_tag": "ABX9TyO7D6mG36w6hg1OgxJjRfs9",
      "include_colab_link": true
    },
    "kernelspec": {
      "name": "python3",
      "display_name": "Python 3"
    },
    "language_info": {
      "name": "python"
    },
    "accelerator": "GPU"
  },
  "cells": [
    {
      "cell_type": "markdown",
      "metadata": {
        "id": "view-in-github",
        "colab_type": "text"
      },
      "source": [
        "<a href=\"https://colab.research.google.com/github/D3stro9er/neural-networks/blob/main/lab4/lab4.ipynb\" target=\"_parent\"><img src=\"https://colab.research.google.com/assets/colab-badge.svg\" alt=\"Open In Colab\"/></a>"
      ]
    },
    {
      "cell_type": "markdown",
      "source": [
        "#Лабораторна робота №4\n",
        "###студента групи Анд-31\n",
        "###Українець Андрій\n",
        "###Варіант №11"
      ],
      "metadata": {
        "id": "679DbOmcCrRR"
      }
    },
    {
      "cell_type": "markdown",
      "source": [
        "#Завдання №1\n",
        "### Для моделювання використати 3 класи індекси яких взяти відповідно до номеру у списку групи(0, 5, 7).\n",
        "### Моделювання провести із використанням нейронної мережі (Flatten & Dense layers).\n"
      ],
      "metadata": {
        "id": "gkwHGRyWC4mZ"
      }
    },
    {
      "cell_type": "code",
      "execution_count": 3,
      "metadata": {
        "id": "NkLJTsOqxRD_"
      },
      "outputs": [],
      "source": [
        "import tensorflow as tf\n",
        "from tensorflow.keras.datasets import fashion_mnist\n",
        "import matplotlib.pyplot as plt\n",
        "import numpy as np\n",
        "import pandas as pd\n",
        "from sklearn.metrics import confusion_matrix"
      ]
    },
    {
      "cell_type": "code",
      "source": [
        "( train_data ,  train_labels ),  ( test_data ,  test_labels )  =  fashion_mnist . load_data ()"
      ],
      "metadata": {
        "colab": {
          "base_uri": "https://localhost:8080/"
        },
        "id": "GpWkT6Qj0OST",
        "outputId": "084219a8-6758-45d4-c39c-d5bf841ee2bf"
      },
      "execution_count": 4,
      "outputs": [
        {
          "output_type": "stream",
          "name": "stdout",
          "text": [
            "Downloading data from https://storage.googleapis.com/tensorflow/tf-keras-datasets/train-labels-idx1-ubyte.gz\n",
            "32768/29515 [=================================] - 0s 0us/step\n",
            "40960/29515 [=========================================] - 0s 0us/step\n",
            "Downloading data from https://storage.googleapis.com/tensorflow/tf-keras-datasets/train-images-idx3-ubyte.gz\n",
            "26427392/26421880 [==============================] - 0s 0us/step\n",
            "26435584/26421880 [==============================] - 0s 0us/step\n",
            "Downloading data from https://storage.googleapis.com/tensorflow/tf-keras-datasets/t10k-labels-idx1-ubyte.gz\n",
            "16384/5148 [===============================================================================================] - 0s 0us/step\n",
            "Downloading data from https://storage.googleapis.com/tensorflow/tf-keras-datasets/t10k-images-idx3-ubyte.gz\n",
            "4423680/4422102 [==============================] - 0s 0us/step\n",
            "4431872/4422102 [==============================] - 0s 0us/step\n"
          ]
        }
      ]
    },
    {
      "cell_type": "code",
      "source": [
        "plt.imshow(train_data[2])"
      ],
      "metadata": {
        "colab": {
          "base_uri": "https://localhost:8080/",
          "height": 282
        },
        "id": "PgwHa68JBVcK",
        "outputId": "986f76fd-199d-4381-e13b-114dab041cbb"
      },
      "execution_count": 5,
      "outputs": [
        {
          "output_type": "execute_result",
          "data": {
            "text/plain": [
              "<matplotlib.image.AxesImage at 0x7fc08b01f350>"
            ]
          },
          "metadata": {},
          "execution_count": 5
        },
        {
          "output_type": "display_data",
          "data": {
            "text/plain": [
              "<Figure size 432x288 with 1 Axes>"
            ],
            "image/png": "[encoded data removed]"
          },
          "metadata": {
            "needs_background": "light"
          }
        }
      ]
    },
    {
      "cell_type": "code",
      "source": [
        "class_names = ['T-shirt/top', 'Trouser', 'Pullover', 'Dress', 'Coat', \n",
        "               'Sandal', 'Shirt', 'Sneaker', 'Bag', 'Ankle boot']"
      ],
      "metadata": {
        "id": "quTx4HstC_Oo"
      },
      "execution_count": 6,
      "outputs": []
    },
    {
      "cell_type": "code",
      "source": [
        "train_data = train_data[np.where(np.in1d(train_labels, [0, 5, 7]))]\n",
        "train_labels = train_labels[np.where(np.in1d(train_labels, [0, 5, 7]))]\n",
        "test_data = test_data[np.where(np.in1d(test_labels, [0, 5, 7]))]\n",
        "test_labels = test_labels[np.where(np.in1d(test_labels, [0, 5, 7]))]\n",
        "class_names_1 = [class_names[i] for i in [0, 5, 7]]"
      ],
      "metadata": {
        "id": "fK6UrSZfw4Yo"
      },
      "execution_count": 7,
      "outputs": []
    },
    {
      "cell_type": "code",
      "source": [
        "import random\n",
        "plt.figure(figsize=(7, 7))\n",
        "for i in range(3):\n",
        "  ax = plt.subplot(2, 2, i + 1)\n",
        "  rand_index = random.choice(range(len(train_data)))\n",
        "  plt.imshow(train_data[rand_index], cmap=plt.cm.binary)\n",
        "  plt.title(class_names[train_labels[rand_index]])\n",
        "  plt.axis(False)"
      ],
      "metadata": {
        "colab": {
          "base_uri": "https://localhost:8080/",
          "height": 427
        },
        "id": "-uG2Nc4FISDm",
        "outputId": "4b26a2aa-5083-4e16-f59f-77f8870d10b5"
      },
      "execution_count": 8,
      "outputs": [
        {
          "output_type": "display_data",
          "data": {
            "text/plain": [
              "<Figure size 504x504 with 3 Axes>"
            ],
            "image/png": "[encoded data removed]"
          },
          "metadata": {
            "needs_background": "light"
          }
        }
      ]
    },
    {
      "cell_type": "code",
      "source": [
        "tf.random.set_seed(42)\n",
        "\n",
        "# Create the model\n",
        "model_11 = tf.keras.Sequential([\n",
        "  tf.keras.layers.Flatten(input_shape=(28, 28)), \n",
        "  tf.keras.layers.Dense(4, activation=\"relu\"),\n",
        "  tf.keras.layers.Dense(4, activation=\"relu\"),\n",
        "  tf.keras.layers.Dense(10, activation=\"softmax\") \n",
        "])\n",
        "\n",
        "# Compile the model\n",
        "model_11.compile(loss=tf.keras.losses.SparseCategoricalCrossentropy(),\n",
        "                 optimizer=tf.keras.optimizers.Adam(),\n",
        "                 metrics=[\"accuracy\"])\n",
        "\n",
        "# Fit the model\n",
        "non_norm_history = model_11.fit(train_data,\n",
        "                                train_labels,\n",
        "                                epochs=10,\n",
        "                                validation_data=(test_data, test_labels))\n"
      ],
      "metadata": {
        "colab": {
          "base_uri": "https://localhost:8080/"
        },
        "id": "UBy-j6VlKUHz",
        "outputId": "f681cd97-1ef7-43ab-e5e2-8bc2508e4bf4"
      },
      "execution_count": 9,
      "outputs": [
        {
          "output_type": "stream",
          "name": "stdout",
          "text": [
            "Epoch 1/10\n",
            "563/563 [==============================] - 2s 2ms/step - loss: 1.9791 - accuracy: 0.4551 - val_loss: 1.1958 - val_accuracy: 0.4897\n",
            "Epoch 2/10\n",
            "563/563 [==============================] - 1s 2ms/step - loss: 0.9933 - accuracy: 0.5316 - val_loss: 0.8590 - val_accuracy: 0.6023\n",
            "Epoch 3/10\n",
            "563/563 [==============================] - 1s 1ms/step - loss: 0.7393 - accuracy: 0.6240 - val_loss: 0.5717 - val_accuracy: 0.7923\n",
            "Epoch 4/10\n",
            "563/563 [==============================] - 1s 2ms/step - loss: 0.4666 - accuracy: 0.8383 - val_loss: 0.3712 - val_accuracy: 0.8767\n",
            "Epoch 5/10\n",
            "563/563 [==============================] - 1s 1ms/step - loss: 0.3438 - accuracy: 0.8824 - val_loss: 0.2960 - val_accuracy: 0.9143\n",
            "Epoch 6/10\n",
            "563/563 [==============================] - 1s 1ms/step - loss: 0.2872 - accuracy: 0.9012 - val_loss: 0.4835 - val_accuracy: 0.7940\n",
            "Epoch 7/10\n",
            "563/563 [==============================] - 1s 2ms/step - loss: 0.2446 - accuracy: 0.9138 - val_loss: 0.2486 - val_accuracy: 0.9333\n",
            "Epoch 8/10\n",
            "563/563 [==============================] - 1s 2ms/step - loss: 0.2268 - accuracy: 0.9239 - val_loss: 0.2118 - val_accuracy: 0.9367\n",
            "Epoch 9/10\n",
            "563/563 [==============================] - 1s 1ms/step - loss: 0.1945 - accuracy: 0.9366 - val_loss: 0.2831 - val_accuracy: 0.9070\n",
            "Epoch 10/10\n",
            "563/563 [==============================] - 1s 1ms/step - loss: 0.1921 - accuracy: 0.9377 - val_loss: 0.2104 - val_accuracy: 0.9393\n"
          ]
        }
      ]
    },
    {
      "cell_type": "code",
      "source": [
        "model_11.summary()"
      ],
      "metadata": {
        "colab": {
          "base_uri": "https://localhost:8080/"
        },
        "id": "r7tEoVk6LAai",
        "outputId": "895563aa-9327-4940-dd46-e45e9a6a07b1"
      },
      "execution_count": 10,
      "outputs": [
        {
          "output_type": "stream",
          "name": "stdout",
          "text": [
            "Model: \"sequential\"\n",
            "_________________________________________________________________\n",
            " Layer (type)                Output Shape              Param #   \n",
            "=================================================================\n",
            " flatten (Flatten)           (None, 784)               0         \n",
            "                                                                 \n",
            " dense (Dense)               (None, 4)                 3140      \n",
            "                                                                 \n",
            " dense_1 (Dense)             (None, 4)                 20        \n",
            "                                                                 \n",
            " dense_2 (Dense)             (None, 10)                50        \n",
            "                                                                 \n",
            "=================================================================\n",
            "Total params: 3,210\n",
            "Trainable params: 3,210\n",
            "Non-trainable params: 0\n",
            "_________________________________________________________________\n"
          ]
        }
      ]
    },
    {
      "cell_type": "code",
      "source": [
        "pd.DataFrame(non_norm_history.history).plot(title=\"Non-normalized Data\")"
      ],
      "metadata": {
        "colab": {
          "base_uri": "https://localhost:8080/",
          "height": 298
        },
        "id": "qcH_FoOcNzTA",
        "outputId": "1698ddfa-f1e2-4930-bbf5-9008066a7313"
      },
      "execution_count": 15,
      "outputs": [
        {
          "output_type": "execute_result",
          "data": {
            "text/plain": [
              "<matplotlib.axes._subplots.AxesSubplot at 0x7fc085a43f50>"
            ]
          },
          "metadata": {},
          "execution_count": 15
        },
        {
          "output_type": "display_data",
          "data": {
            "text/plain": [
              "<Figure size 432x288 with 1 Axes>"
            ],
            "image/png": "[encoded data removed]"
          },
          "metadata": {
            "needs_background": "light"
          }
        }
      ]
    },
    {
      "cell_type": "code",
      "source": [
        "#Confusion matrix\n",
        "predicted_labels1 = model_11.predict(test_data)\n",
        "predicted_labels1 = predicted_labels1.argmax(axis=1)\n",
        "print(f\"Model 1, not normalized data:\\n {confusion_matrix(y_true=test_labels, y_pred=predicted_labels1)}\")"
      ],
      "metadata": {
        "colab": {
          "base_uri": "https://localhost:8080/"
        },
        "id": "Mvu7gkf-L3WB",
        "outputId": "1d6af643-e471-41e5-e039-cf904681b353"
      },
      "execution_count": 11,
      "outputs": [
        {
          "output_type": "stream",
          "name": "stdout",
          "text": [
            "Model 1, not normalized data:\n",
            " [[999   0   1]\n",
            " [  7 926  67]\n",
            " [  2 105 893]]\n"
          ]
        }
      ]
    },
    {
      "cell_type": "code",
      "source": [
        "#Normalize data\n",
        "train_data = train_data / 255.0\n",
        "test_data = test_data / 255.0\n",
        "train_data.min(), train_data.max()"
      ],
      "metadata": {
        "colab": {
          "base_uri": "https://localhost:8080/"
        },
        "id": "AN0TNzlmMk5J",
        "outputId": "2d31e912-5742-4192-833f-283725313dc3"
      },
      "execution_count": 12,
      "outputs": [
        {
          "output_type": "execute_result",
          "data": {
            "text/plain": [
              "(0.0, 1.0)"
            ]
          },
          "metadata": {},
          "execution_count": 12
        }
      ]
    },
    {
      "cell_type": "code",
      "source": [
        "tf.random.set_seed(42)\n",
        "\n",
        "# Create the model\n",
        "model_12 = tf.keras.Sequential([\n",
        "  tf.keras.layers.Flatten(input_shape=(28, 28)),\n",
        "  tf.keras.layers.Dense(4, activation=\"relu\"),\n",
        "  tf.keras.layers.Dense(4, activation=\"relu\"),\n",
        "  tf.keras.layers.Dense(10, activation=\"softmax\") \n",
        "])\n",
        "\n",
        "# Compile the model\n",
        "model_12.compile(loss=tf.keras.losses.SparseCategoricalCrossentropy(),\n",
        "                 optimizer=tf.keras.optimizers.Adam(),\n",
        "                 metrics=[\"accuracy\"])\n",
        "\n",
        "# Fit the model\n",
        "norm_history = model_12.fit(train_data,\n",
        "                            train_labels,\n",
        "                            epochs=10,\n",
        "                            validation_data=(test_data, test_labels))"
      ],
      "metadata": {
        "colab": {
          "base_uri": "https://localhost:8080/"
        },
        "id": "GY02gijQNb7-",
        "outputId": "1659d516-5fb2-4956-addc-c74eb7e139ba"
      },
      "execution_count": 13,
      "outputs": [
        {
          "output_type": "stream",
          "name": "stdout",
          "text": [
            "Epoch 1/10\n",
            "563/563 [==============================] - 1s 2ms/step - loss: 0.3836 - accuracy: 0.8870 - val_loss: 0.1261 - val_accuracy: 0.9603\n",
            "Epoch 2/10\n",
            "563/563 [==============================] - 1s 2ms/step - loss: 0.1075 - accuracy: 0.9653 - val_loss: 0.0908 - val_accuracy: 0.9667\n",
            "Epoch 3/10\n",
            "563/563 [==============================] - 1s 1ms/step - loss: 0.0872 - accuracy: 0.9723 - val_loss: 0.0875 - val_accuracy: 0.9663\n",
            "Epoch 4/10\n",
            "563/563 [==============================] - 1s 1ms/step - loss: 0.0779 - accuracy: 0.9733 - val_loss: 0.0951 - val_accuracy: 0.9670\n",
            "Epoch 5/10\n",
            "563/563 [==============================] - 1s 2ms/step - loss: 0.0730 - accuracy: 0.9742 - val_loss: 0.0903 - val_accuracy: 0.9683\n",
            "Epoch 6/10\n",
            "563/563 [==============================] - 1s 1ms/step - loss: 0.0694 - accuracy: 0.9759 - val_loss: 0.0679 - val_accuracy: 0.9750\n",
            "Epoch 7/10\n",
            "563/563 [==============================] - 1s 1ms/step - loss: 0.0658 - accuracy: 0.9768 - val_loss: 0.0697 - val_accuracy: 0.9727\n",
            "Epoch 8/10\n",
            "563/563 [==============================] - 1s 1ms/step - loss: 0.0624 - accuracy: 0.9782 - val_loss: 0.0650 - val_accuracy: 0.9757\n",
            "Epoch 9/10\n",
            "563/563 [==============================] - 1s 1ms/step - loss: 0.0596 - accuracy: 0.9796 - val_loss: 0.0757 - val_accuracy: 0.9710\n",
            "Epoch 10/10\n",
            "563/563 [==============================] - 1s 1ms/step - loss: 0.0581 - accuracy: 0.9801 - val_loss: 0.0634 - val_accuracy: 0.9763\n"
          ]
        }
      ]
    },
    {
      "cell_type": "code",
      "source": [
        "predicted_labels2 = model_12.predict(test_data)\n",
        "predicted_labels2 = predicted_labels2.argmax(axis=1)\n",
        "print(f\"Model 2, normalized data:\\n {confusion_matrix(y_true=test_labels, y_pred=predicted_labels2)}\")"
      ],
      "metadata": {
        "colab": {
          "base_uri": "https://localhost:8080/"
        },
        "id": "1_oW4O6INhIn",
        "outputId": "5eb275ef-e9c7-46e8-f92a-531c08f3ca19"
      },
      "execution_count": 14,
      "outputs": [
        {
          "output_type": "stream",
          "name": "stdout",
          "text": [
            "Model 2, normalized data:\n",
            " [[999   1   0]\n",
            " [  1 963  36]\n",
            " [  0  33 967]]\n"
          ]
        }
      ]
    },
    {
      "cell_type": "code",
      "source": [
        "pd.DataFrame(norm_history.history).plot(title=\"Normalized data\");"
      ],
      "metadata": {
        "colab": {
          "base_uri": "https://localhost:8080/",
          "height": 281
        },
        "id": "LJecVdUwN9dN",
        "outputId": "3d7c4acb-13cb-4ef9-9cb8-534e690cfed0"
      },
      "execution_count": 16,
      "outputs": [
        {
          "output_type": "display_data",
          "data": {
            "text/plain": [
              "<Figure size 432x288 with 1 Axes>"
            ],
            "image/png": "[encoded data removed]"
          },
          "metadata": {
            "needs_background": "light"
          }
        }
      ]
    },
    {
      "cell_type": "code",
      "source": [
        "model_13 = tf.keras.Sequential([\n",
        "  tf.keras.layers.Flatten(input_shape=(28, 28)), \n",
        "  tf.keras.layers.Dense(4, activation=\"relu\"),\n",
        "  tf.keras.layers.Dense(4, activation=\"relu\"),\n",
        "  tf.keras.layers.Dense(10, activation=\"softmax\")\n",
        "])\n",
        "\n",
        "# Compile the model\n",
        "model_13.compile(loss=tf.keras.losses.SparseCategoricalCrossentropy(),\n",
        "                 optimizer=tf.keras.optimizers.Adam(),\n",
        "                 metrics=[\"accuracy\"])\n",
        "\n",
        "# Create the learning rate callback\n",
        "lr_scheduler = tf.keras.callbacks.LearningRateScheduler(lambda epoch: 1e-3 * 10**(epoch/20))\n",
        "\n",
        "# Fit the model\n",
        "find_lr_history = model_13.fit(train_data,\n",
        "                               train_labels,\n",
        "                               epochs=40,\n",
        "                               validation_data=(test_data, test_labels),\n",
        "                               callbacks=[lr_scheduler])"
      ],
      "metadata": {
        "colab": {
          "base_uri": "https://localhost:8080/"
        },
        "id": "HCEmDqa9N_cD",
        "outputId": "754c3e54-8819-456f-c0b9-5a088dd519e9"
      },
      "execution_count": 22,
      "outputs": [
        {
          "output_type": "stream",
          "name": "stdout",
          "text": [
            "Epoch 1/40\n",
            "563/563 [==============================] - 1s 2ms/step - loss: 0.5685 - accuracy: 0.7828 - val_loss: 0.1545 - val_accuracy: 0.9557 - lr: 0.0010\n",
            "Epoch 2/40\n",
            "563/563 [==============================] - 1s 1ms/step - loss: 0.1225 - accuracy: 0.9643 - val_loss: 0.1014 - val_accuracy: 0.9653 - lr: 0.0011\n",
            "Epoch 3/40\n",
            "563/563 [==============================] - 1s 1ms/step - loss: 0.1016 - accuracy: 0.9686 - val_loss: 0.1107 - val_accuracy: 0.9613 - lr: 0.0013\n",
            "Epoch 4/40\n",
            "563/563 [==============================] - 1s 2ms/step - loss: 0.0921 - accuracy: 0.9696 - val_loss: 0.0945 - val_accuracy: 0.9670 - lr: 0.0014\n",
            "Epoch 5/40\n",
            "563/563 [==============================] - 1s 1ms/step - loss: 0.0870 - accuracy: 0.9714 - val_loss: 0.0968 - val_accuracy: 0.9660 - lr: 0.0016\n",
            "Epoch 6/40\n",
            "563/563 [==============================] - 1s 1ms/step - loss: 0.0868 - accuracy: 0.9711 - val_loss: 0.0908 - val_accuracy: 0.9670 - lr: 0.0018\n",
            "Epoch 7/40\n",
            "563/563 [==============================] - 1s 1ms/step - loss: 0.0823 - accuracy: 0.9728 - val_loss: 0.0838 - val_accuracy: 0.9690 - lr: 0.0020\n",
            "Epoch 8/40\n",
            "563/563 [==============================] - 1s 2ms/step - loss: 0.0761 - accuracy: 0.9737 - val_loss: 0.0796 - val_accuracy: 0.9713 - lr: 0.0022\n",
            "Epoch 9/40\n",
            "563/563 [==============================] - 1s 1ms/step - loss: 0.0751 - accuracy: 0.9745 - val_loss: 0.1274 - val_accuracy: 0.9600 - lr: 0.0025\n",
            "Epoch 10/40\n",
            "563/563 [==============================] - 1s 2ms/step - loss: 0.0740 - accuracy: 0.9747 - val_loss: 0.0917 - val_accuracy: 0.9667 - lr: 0.0028\n",
            "Epoch 11/40\n",
            "563/563 [==============================] - 1s 2ms/step - loss: 0.0718 - accuracy: 0.9754 - val_loss: 0.0883 - val_accuracy: 0.9677 - lr: 0.0032\n",
            "Epoch 12/40\n",
            "563/563 [==============================] - 1s 1ms/step - loss: 0.0743 - accuracy: 0.9737 - val_loss: 0.0748 - val_accuracy: 0.9700 - lr: 0.0035\n",
            "Epoch 13/40\n",
            "563/563 [==============================] - 1s 1ms/step - loss: 0.0743 - accuracy: 0.9742 - val_loss: 0.0943 - val_accuracy: 0.9670 - lr: 0.0040\n",
            "Epoch 14/40\n",
            "563/563 [==============================] - 1s 1ms/step - loss: 0.0746 - accuracy: 0.9736 - val_loss: 0.0854 - val_accuracy: 0.9683 - lr: 0.0045\n",
            "Epoch 15/40\n",
            "563/563 [==============================] - 1s 2ms/step - loss: 0.0756 - accuracy: 0.9733 - val_loss: 0.1017 - val_accuracy: 0.9650 - lr: 0.0050\n",
            "Epoch 16/40\n",
            "563/563 [==============================] - 1s 2ms/step - loss: 0.0725 - accuracy: 0.9738 - val_loss: 0.0956 - val_accuracy: 0.9653 - lr: 0.0056\n",
            "Epoch 17/40\n",
            "563/563 [==============================] - 1s 1ms/step - loss: 0.0731 - accuracy: 0.9723 - val_loss: 0.0792 - val_accuracy: 0.9707 - lr: 0.0063\n",
            "Epoch 18/40\n",
            "563/563 [==============================] - 1s 1ms/step - loss: 0.0769 - accuracy: 0.9718 - val_loss: 0.0866 - val_accuracy: 0.9697 - lr: 0.0071\n",
            "Epoch 19/40\n",
            "563/563 [==============================] - 1s 1ms/step - loss: 0.0756 - accuracy: 0.9728 - val_loss: 0.1214 - val_accuracy: 0.9563 - lr: 0.0079\n",
            "Epoch 20/40\n",
            "563/563 [==============================] - 1s 1ms/step - loss: 0.0743 - accuracy: 0.9733 - val_loss: 0.0819 - val_accuracy: 0.9713 - lr: 0.0089\n",
            "Epoch 21/40\n",
            "563/563 [==============================] - 1s 1ms/step - loss: 0.0716 - accuracy: 0.9741 - val_loss: 0.0779 - val_accuracy: 0.9730 - lr: 0.0100\n",
            "Epoch 22/40\n",
            "563/563 [==============================] - 1s 2ms/step - loss: 0.0669 - accuracy: 0.9757 - val_loss: 0.0833 - val_accuracy: 0.9727 - lr: 0.0112\n",
            "Epoch 23/40\n",
            "563/563 [==============================] - 1s 1ms/step - loss: 0.0739 - accuracy: 0.9726 - val_loss: 0.0761 - val_accuracy: 0.9743 - lr: 0.0126\n",
            "Epoch 24/40\n",
            "563/563 [==============================] - 1s 2ms/step - loss: 0.0768 - accuracy: 0.9722 - val_loss: 0.1040 - val_accuracy: 0.9610 - lr: 0.0141\n",
            "Epoch 25/40\n",
            "563/563 [==============================] - 1s 1ms/step - loss: 0.0723 - accuracy: 0.9747 - val_loss: 0.0755 - val_accuracy: 0.9757 - lr: 0.0158\n",
            "Epoch 26/40\n",
            "563/563 [==============================] - 1s 1ms/step - loss: 0.0693 - accuracy: 0.9761 - val_loss: 0.0778 - val_accuracy: 0.9730 - lr: 0.0178\n",
            "Epoch 27/40\n",
            "563/563 [==============================] - 1s 1ms/step - loss: 0.0753 - accuracy: 0.9748 - val_loss: 0.0786 - val_accuracy: 0.9760 - lr: 0.0200\n",
            "Epoch 28/40\n",
            "563/563 [==============================] - 1s 1ms/step - loss: 0.0748 - accuracy: 0.9731 - val_loss: 0.0726 - val_accuracy: 0.9760 - lr: 0.0224\n",
            "Epoch 29/40\n",
            "563/563 [==============================] - 1s 1ms/step - loss: 0.0706 - accuracy: 0.9763 - val_loss: 0.0703 - val_accuracy: 0.9733 - lr: 0.0251\n",
            "Epoch 30/40\n",
            "563/563 [==============================] - 1s 2ms/step - loss: 0.0717 - accuracy: 0.9750 - val_loss: 0.0837 - val_accuracy: 0.9747 - lr: 0.0282\n",
            "Epoch 31/40\n",
            "563/563 [==============================] - 1s 2ms/step - loss: 0.0894 - accuracy: 0.9735 - val_loss: 0.0917 - val_accuracy: 0.9710 - lr: 0.0316\n",
            "Epoch 32/40\n",
            "563/563 [==============================] - 1s 1ms/step - loss: 0.0850 - accuracy: 0.9736 - val_loss: 0.1013 - val_accuracy: 0.9697 - lr: 0.0355\n",
            "Epoch 33/40\n",
            "563/563 [==============================] - 1s 1ms/step - loss: 0.0784 - accuracy: 0.9739 - val_loss: 0.0945 - val_accuracy: 0.9657 - lr: 0.0398\n",
            "Epoch 34/40\n",
            "563/563 [==============================] - 1s 1ms/step - loss: 0.0767 - accuracy: 0.9743 - val_loss: 0.1170 - val_accuracy: 0.9667 - lr: 0.0447\n",
            "Epoch 35/40\n",
            "563/563 [==============================] - 1s 2ms/step - loss: 0.0938 - accuracy: 0.9698 - val_loss: 0.0954 - val_accuracy: 0.9663 - lr: 0.0501\n",
            "Epoch 36/40\n",
            "563/563 [==============================] - 1s 1ms/step - loss: 0.0856 - accuracy: 0.9720 - val_loss: 0.1077 - val_accuracy: 0.9640 - lr: 0.0562\n",
            "Epoch 37/40\n",
            "563/563 [==============================] - 1s 1ms/step - loss: 0.1515 - accuracy: 0.9619 - val_loss: 0.1093 - val_accuracy: 0.9680 - lr: 0.0631\n",
            "Epoch 38/40\n",
            "563/563 [==============================] - 1s 1ms/step - loss: 0.1004 - accuracy: 0.9698 - val_loss: 0.0897 - val_accuracy: 0.9720 - lr: 0.0708\n",
            "Epoch 39/40\n",
            "563/563 [==============================] - 1s 1ms/step - loss: 0.1155 - accuracy: 0.9663 - val_loss: 0.1480 - val_accuracy: 0.9540 - lr: 0.0794\n",
            "Epoch 40/40\n",
            "563/563 [==============================] - 1s 1ms/step - loss: 0.1239 - accuracy: 0.9633 - val_loss: 0.2085 - val_accuracy: 0.9130 - lr: 0.0891\n"
          ]
        }
      ]
    },
    {
      "cell_type": "markdown",
      "source": [
        "# Завдання №2\n",
        "### Здійснити вибір оптимального кроку градієнтного алгоритму (learning_rate), а також побудову Confusion Matrix.\n"
      ],
      "metadata": {
        "id": "5n8eUFepEtNV"
      }
    },
    {
      "cell_type": "code",
      "source": [
        "#learning rate\n",
        "lrs = 1e-3 * (10**(np.arange(40)/20))\n",
        "plt.semilogx(lrs, find_lr_history.history[\"loss\"])\n",
        "plt.xlabel(\"Learning rate\")\n",
        "plt.ylabel(\"Loss\")\n",
        "plt.title(\"Finding the ideal learning rate\");"
      ],
      "metadata": {
        "colab": {
          "base_uri": "https://localhost:8080/",
          "height": 299
        },
        "id": "HM4zFKK5OHNl",
        "outputId": "8ceead4e-f9ad-4524-f860-bca2486797a5"
      },
      "execution_count": 23,
      "outputs": [
        {
          "output_type": "display_data",
          "data": {
            "text/plain": [
              "<Figure size 432x288 with 1 Axes>"
            ],
            "image/png": "[encoded data removed]"
          },
          "metadata": {
            "needs_background": "light"
          }
        }
      ]
    },
    {
      "cell_type": "code",
      "source": [
        "l_rate = min(find_lr_history.history[\"loss\"])"
      ],
      "metadata": {
        "id": "4bu-7E-MXR9e"
      },
      "execution_count": 24,
      "outputs": []
    },
    {
      "cell_type": "code",
      "source": [
        "tf.random.set_seed(42)\n",
        "\n",
        "# Create the model\n",
        "model4 = tf.keras.Sequential([\n",
        "  tf.keras.layers.Flatten(input_shape=(28, 28)),\n",
        "  tf.keras.layers.Dense(20, activation=\"relu\"),\n",
        "  tf.keras.layers.Dense(8, activation=\"relu\"),\n",
        "  tf.keras.layers.Dense(8, activation=\"relu\"),\n",
        "  tf.keras.layers.Dense(10, activation=\"softmax\") \n",
        "])\n",
        "\n",
        "# Compile the model\n",
        "model4.compile(loss=tf.keras.losses.SparseCategoricalCrossentropy(),\n",
        "                 optimizer=tf.keras.optimizers.Adam(lr=0.001), \n",
        "                 metrics=[\"accuracy\"])\n",
        "\n",
        "# Fit the model\n",
        "history = model4.fit(train_data,\n",
        "                       train_labels,\n",
        "                       epochs=20,\n",
        "                       validation_data=(test_data, test_labels))"
      ],
      "metadata": {
        "colab": {
          "base_uri": "https://localhost:8080/"
        },
        "id": "CbvaBUNxO-hp",
        "outputId": "ebf1b095-143c-49f7-ebcf-73433fcbf90d"
      },
      "execution_count": 27,
      "outputs": [
        {
          "output_type": "stream",
          "name": "stdout",
          "text": [
            "Epoch 1/20\n"
          ]
        },
        {
          "output_type": "stream",
          "name": "stderr",
          "text": [
            "/usr/local/lib/python3.7/dist-packages/keras/optimizer_v2/adam.py:105: UserWarning: The `lr` argument is deprecated, use `learning_rate` instead.\n",
            "  super(Adam, self).__init__(name, **kwargs)\n"
          ]
        },
        {
          "output_type": "stream",
          "name": "stdout",
          "text": [
            "563/563 [==============================] - 1s 2ms/step - loss: 0.3347 - accuracy: 0.8831 - val_loss: 0.0892 - val_accuracy: 0.9687\n",
            "Epoch 2/20\n",
            "563/563 [==============================] - 1s 2ms/step - loss: 0.0870 - accuracy: 0.9697 - val_loss: 0.0728 - val_accuracy: 0.9743\n",
            "Epoch 3/20\n",
            "563/563 [==============================] - 1s 2ms/step - loss: 0.0716 - accuracy: 0.9761 - val_loss: 0.0887 - val_accuracy: 0.9697\n",
            "Epoch 4/20\n",
            "563/563 [==============================] - 1s 2ms/step - loss: 0.0620 - accuracy: 0.9781 - val_loss: 0.0689 - val_accuracy: 0.9767\n",
            "Epoch 5/20\n",
            "563/563 [==============================] - 1s 2ms/step - loss: 0.0561 - accuracy: 0.9812 - val_loss: 0.0647 - val_accuracy: 0.9777\n",
            "Epoch 6/20\n",
            "563/563 [==============================] - 1s 2ms/step - loss: 0.0523 - accuracy: 0.9816 - val_loss: 0.0638 - val_accuracy: 0.9767\n",
            "Epoch 7/20\n",
            "563/563 [==============================] - 1s 1ms/step - loss: 0.0488 - accuracy: 0.9833 - val_loss: 0.0616 - val_accuracy: 0.9767\n",
            "Epoch 8/20\n",
            "563/563 [==============================] - 1s 2ms/step - loss: 0.0438 - accuracy: 0.9844 - val_loss: 0.0576 - val_accuracy: 0.9797\n",
            "Epoch 9/20\n",
            "563/563 [==============================] - 1s 2ms/step - loss: 0.0398 - accuracy: 0.9868 - val_loss: 0.0874 - val_accuracy: 0.9717\n",
            "Epoch 10/20\n",
            "563/563 [==============================] - 1s 2ms/step - loss: 0.0369 - accuracy: 0.9875 - val_loss: 0.0491 - val_accuracy: 0.9840\n",
            "Epoch 11/20\n",
            "563/563 [==============================] - 1s 2ms/step - loss: 0.0344 - accuracy: 0.9879 - val_loss: 0.0548 - val_accuracy: 0.9823\n",
            "Epoch 12/20\n",
            "563/563 [==============================] - 1s 2ms/step - loss: 0.0320 - accuracy: 0.9891 - val_loss: 0.0524 - val_accuracy: 0.9810\n",
            "Epoch 13/20\n",
            "563/563 [==============================] - 1s 2ms/step - loss: 0.0290 - accuracy: 0.9899 - val_loss: 0.0573 - val_accuracy: 0.9803\n",
            "Epoch 14/20\n",
            "563/563 [==============================] - 1s 2ms/step - loss: 0.0302 - accuracy: 0.9898 - val_loss: 0.0615 - val_accuracy: 0.9817\n",
            "Epoch 15/20\n",
            "563/563 [==============================] - 1s 2ms/step - loss: 0.0264 - accuracy: 0.9911 - val_loss: 0.0561 - val_accuracy: 0.9810\n",
            "Epoch 16/20\n",
            "563/563 [==============================] - 1s 2ms/step - loss: 0.0253 - accuracy: 0.9909 - val_loss: 0.0531 - val_accuracy: 0.9833\n",
            "Epoch 17/20\n",
            "563/563 [==============================] - 1s 1ms/step - loss: 0.0222 - accuracy: 0.9927 - val_loss: 0.0529 - val_accuracy: 0.9843\n",
            "Epoch 18/20\n",
            "563/563 [==============================] - 1s 2ms/step - loss: 0.0213 - accuracy: 0.9928 - val_loss: 0.0609 - val_accuracy: 0.9827\n",
            "Epoch 19/20\n",
            "563/563 [==============================] - 1s 2ms/step - loss: 0.0211 - accuracy: 0.9927 - val_loss: 0.0669 - val_accuracy: 0.9790\n",
            "Epoch 20/20\n",
            "563/563 [==============================] - 1s 2ms/step - loss: 0.0208 - accuracy: 0.9931 - val_loss: 0.0626 - val_accuracy: 0.9820\n"
          ]
        }
      ]
    },
    {
      "cell_type": "code",
      "source": [
        "history4_df = pd.DataFrame(history.history)\n",
        "history4_df.plot(title='Suposed best learning rate')"
      ],
      "metadata": {
        "colab": {
          "base_uri": "https://localhost:8080/",
          "height": 298
        },
        "id": "t9RnAg-uPRh0",
        "outputId": "f4991325-0486-45f1-ff88-d9170c27448e"
      },
      "execution_count": 30,
      "outputs": [
        {
          "output_type": "execute_result",
          "data": {
            "text/plain": [
              "<matplotlib.axes._subplots.AxesSubplot at 0x7fc0861f1750>"
            ]
          },
          "metadata": {},
          "execution_count": 30
        },
        {
          "output_type": "display_data",
          "data": {
            "text/plain": [
              "<Figure size 432x288 with 1 Axes>"
            ],
            "image/png": "[encoded data removed]"
          },
          "metadata": {
            "needs_background": "light"
          }
        }
      ]
    },
    {
      "cell_type": "code",
      "source": [
        "predicted_labels4 = model4.predict(test_data)\n",
        "predicted_labels4 = predicted_labels4.argmax(axis=1)\n",
        "print(f\"Model 4, supposed best rate:\\n {confusion_matrix(y_true=test_labels, y_pred=predicted_labels4)}\")"
      ],
      "metadata": {
        "colab": {
          "base_uri": "https://localhost:8080/"
        },
        "id": "t_JBZTjKP3k3",
        "outputId": "04f3b674-33e1-47b9-9115-5310df831f0f"
      },
      "execution_count": 31,
      "outputs": [
        {
          "output_type": "stream",
          "name": "stdout",
          "text": [
            "Model 4, supposed best rate:\n",
            " [[998   2   0]\n",
            " [  1 979  20]\n",
            " [  0  31 969]]\n"
          ]
        }
      ]
    },
    {
      "cell_type": "code",
      "source": [
        "print(\"Forecast check\")\n",
        "plt.figure(figsize=(7, 7))\n",
        "for i in range(3):\n",
        "  ax = plt.subplot(2, 2, i + 1)\n",
        "  rand_index = random.choice(range(len(test_data)))\n",
        "  plt.imshow(test_data[rand_index], cmap=plt.cm.binary)\n",
        "  plt.title(class_names[predicted_labels4[rand_index]])\n",
        "  plt.axis(False)"
      ],
      "metadata": {
        "colab": {
          "base_uri": "https://localhost:8080/",
          "height": 444
        },
        "id": "UgMFBtmhWuWQ",
        "outputId": "ba6e47a0-508d-4b24-8ae8-08a81bb1fdb0"
      },
      "execution_count": 33,
      "outputs": [
        {
          "output_type": "stream",
          "name": "stdout",
          "text": [
            "Forecast check\n"
          ]
        },
        {
          "output_type": "display_data",
          "data": {
            "text/plain": [
              "<Figure size 504x504 with 3 Axes>"
            ],
            "image/png": "[encoded data removed]"
          },
          "metadata": {
            "needs_background": "light"
          }
        }
      ]
    },
    {
      "cell_type": "markdown",
      "source": [
        "# Висновок\n",
        "### В ході лабораторної роботи було розглянуто класифікацію за допомогою нейронної мережі. Для побудови нейронної мережі було використано пакет tensorflow. Також будували крафік для знаходження оптимальної к-ть епох. Будувал і confusion matrix для перевірки прогнозу. Для досягнення хороших прогнозів ми спочатку зробили звичайну нейронну мережу з двома прихованими шарами. Потім ми зробили теж саме, але нормалізували наші дані і наша точність підвищилась. Далі я добавив ще один шар та декілька нейронів у інші шари і таким чином ми отримали гарні результати.\n",
        "\n",
        "\n"
      ],
      "metadata": {
        "id": "EgJoZO-ZO5yD"
      }
    },
    {
      "cell_type": "code",
      "source": [
        ""
      ],
      "metadata": {
        "id": "oghkGjtTX5c0"
      },
      "execution_count": null,
      "outputs": []
    }
  ]
}
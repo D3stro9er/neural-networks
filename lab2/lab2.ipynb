{
  "nbformat": 4,
  "nbformat_minor": 0,
  "metadata": {
    "colab": {
      "name": "lab2.ipynb",
      "provenance": [],
      "collapsed_sections": [],
      "mount_file_id": "1q-vvNw2kw6HG99XI-ZCGiJUna1bQmDD8",
      "authorship_tag": "ABX9TyOnr9KboGGleaWR/20CxfMB",
      "include_colab_link": true
    },
    "kernelspec": {
      "name": "python3",
      "display_name": "Python 3"
    },
    "language_info": {
      "name": "python"
    },
    "accelerator": "GPU"
  },
  "cells": [
    {
      "cell_type": "markdown",
      "metadata": {
        "id": "view-in-github",
        "colab_type": "text"
      },
      "source": [
        "<a href=\"https://colab.research.google.com/github/D3stro9er/neural-networks/blob/main/lab2/lab2.ipynb\" target=\"_parent\"><img src=\"https://colab.research.google.com/assets/colab-badge.svg\" alt=\"Open In Colab\"/></a>"
      ]
    },
    {
      "cell_type": "markdown",
      "source": [
        "# Лабораторна робота №2"
      ],
      "metadata": {
        "id": "iGmnraXVMqo2"
      }
    },
    {
      "cell_type": "markdown",
      "source": [
        "### студента групи Анд-31\n",
        "### Українець Андрій\n",
        "### Варіант №11"
      ],
      "metadata": {
        "id": "n2fwdv1DMxUC"
      }
    },
    {
      "cell_type": "markdown",
      "source": [
        "# Завдання №1\n",
        "### створити набір даних із заданим розподілом (розподіл та розмір за власним рішенням), визначити його властивості (shape, rank, size, axis)\n"
      ],
      "metadata": {
        "id": "g8ezFsUTM9UU"
      }
    },
    {
      "cell_type": "code",
      "execution_count": 1,
      "metadata": {
        "colab": {
          "base_uri": "https://localhost:8080/"
        },
        "id": "HTCSq7plJUwV",
        "outputId": "afade783-2d15-4021-d629-24076381f14b"
      },
      "outputs": [
        {
          "output_type": "stream",
          "name": "stdout",
          "text": [
            "Tensor list:\n",
            " tf.Tensor(\n",
            "[[-0.7565803  -0.06854702  0.07595026 -1.2573844  -0.23193765]\n",
            " [-1.8107855   0.09988727 -0.50998646 -0.7535806  -0.5716629 ]\n",
            " [ 0.1480774  -0.23362991 -0.3522796   0.40621266 -1.0523509 ]\n",
            " [ 1.2054597   1.6874489  -0.44629744 -2.3410842   0.99009085]\n",
            " [-0.08763231 -0.635568   -0.6161736  -1.9441465  -0.48293006]], shape=(5, 5), dtype=float32)\n",
            "Shape of tensor:  (5, 5)\n",
            "Rank of tensor: 2\n",
            "Size  of tensor: 25\n",
            "Elements along axis 0 of tensor: 5\n",
            "Elements along axis 1 of tensor: 5\n"
          ]
        }
      ],
      "source": [
        "import tensorflow as tf\n",
        "import numpy as np\n",
        "import pandas as pd\n",
        "\n",
        "Tmatrix = tf.random.Generator.from_seed(42)\n",
        "Tmatrix = Tmatrix.normal(shape=(5, 5))\n",
        "print(\"Tensor list:\\n\",Tmatrix)\n",
        "print(\"Shape of tensor: \", Tmatrix.shape)\n",
        "print(\"Rank of tensor:\", Tmatrix.ndim)\n",
        "print(\"Size  of tensor:\", tf.size(Tmatrix).numpy())\n",
        "print(\"Elements along axis 0 of tensor:\",Tmatrix.shape[0])\n",
        "print(\"Elements along axis 1 of tensor:\",Tmatrix.shape[1])"
      ]
    },
    {
      "cell_type": "markdown",
      "source": [
        "# Завдання №2\n",
        "### продемонструвати основні математичні операції над тензорами."
      ],
      "metadata": {
        "id": "fqe_jfraecaz"
      }
    },
    {
      "cell_type": "code",
      "source": [
        "print(\"Add value to a tensor:\", Tmatrix + 0.3)"
      ],
      "metadata": {
        "colab": {
          "base_uri": "https://localhost:8080/"
        },
        "id": "ffZq7wTMJ2L8",
        "outputId": "08b07d3d-5505-4ea6-9200-718307ca5b2e"
      },
      "execution_count": 2,
      "outputs": [
        {
          "output_type": "stream",
          "name": "stdout",
          "text": [
            "Add value to a tensor: tf.Tensor(\n",
            "[[-0.45658028  0.231453    0.37595028 -0.9573844   0.06806237]\n",
            " [-1.5107856   0.39988726 -0.20998645 -0.45358056 -0.2716629 ]\n",
            " [ 0.4480774   0.0663701  -0.05227959  0.70621264 -0.75235087]\n",
            " [ 1.5054598   1.9874489  -0.14629743 -2.0410843   1.2900908 ]\n",
            " [ 0.2123677  -0.335568   -0.3161736  -1.6441464  -0.18293005]], shape=(5, 5), dtype=float32)\n"
          ]
        }
      ]
    },
    {
      "cell_type": "code",
      "source": [
        "print(\"Multiplication:\", Tmatrix * 1.5)"
      ],
      "metadata": {
        "colab": {
          "base_uri": "https://localhost:8080/"
        },
        "id": "Fa33gFbcgUHD",
        "outputId": "fc823d51-75af-4256-f5fe-1864ebc1632b"
      },
      "execution_count": 3,
      "outputs": [
        {
          "output_type": "stream",
          "name": "stdout",
          "text": [
            "Multiplication: tf.Tensor(\n",
            "[[-1.1348704  -0.10282053  0.11392538 -1.8860767  -0.34790647]\n",
            " [-2.7161784   0.14983091 -0.7649797  -1.1303709  -0.85749435]\n",
            " [ 0.2221161  -0.35044485 -0.5284194   0.609319   -1.5785263 ]\n",
            " [ 1.8081896   2.5311732  -0.6694462  -3.5116262   1.4851363 ]\n",
            " [-0.13144848 -0.95335203 -0.92426044 -2.9162197  -0.7243951 ]], shape=(5, 5), dtype=float32)\n"
          ]
        }
      ]
    },
    {
      "cell_type": "code",
      "source": [
        "print(\"Subtraction:\", Tmatrix - 0.4)"
      ],
      "metadata": {
        "colab": {
          "base_uri": "https://localhost:8080/"
        },
        "id": "UDxp5AmAgrHD",
        "outputId": "c36641f9-30ac-4e19-9071-baee3ba75a6a"
      },
      "execution_count": 4,
      "outputs": [
        {
          "output_type": "stream",
          "name": "stdout",
          "text": [
            "Subtraction: tf.Tensor(\n",
            "[[-1.1565803  -0.46854702 -0.32404974 -1.6573844  -0.6319376 ]\n",
            " [-2.2107856  -0.30011272 -0.9099865  -1.1535805  -0.9716629 ]\n",
            " [-0.2519226  -0.6336299  -0.75227964  0.00621265 -1.4523509 ]\n",
            " [ 0.80545974  1.2874489  -0.84629744 -2.7410843   0.5900909 ]\n",
            " [-0.48763233 -1.035568   -1.0161736  -2.3441465  -0.88293004]], shape=(5, 5), dtype=float32)\n"
          ]
        }
      ]
    },
    {
      "cell_type": "code",
      "source": [
        "Tmatrix_aux = tf.random.Generator.from_seed(12)\n",
        "Tmatrix_aux = Tmatrix_aux.normal(shape=(5, 3))\n",
        "print(\"Auxiliary tensor:\", Tmatrix_aux)"
      ],
      "metadata": {
        "colab": {
          "base_uri": "https://localhost:8080/"
        },
        "id": "VrPnMl5Kg4cF",
        "outputId": "93a7f6cf-57de-452c-d5ea-160ca1d1b117"
      },
      "execution_count": 5,
      "outputs": [
        {
          "output_type": "stream",
          "name": "stdout",
          "text": [
            "Auxiliary tensor: tf.Tensor(\n",
            "[[-1.0130816   0.2829171   1.2132235 ]\n",
            " [ 0.46988973  0.37944326 -0.6664026 ]\n",
            " [ 0.6054596   0.19181173  0.8045827 ]\n",
            " [ 0.4769051  -0.7812124  -0.996891  ]\n",
            " [ 0.33149976 -0.5445254   1.5222508 ]], shape=(5, 3), dtype=float32)\n"
          ]
        }
      ]
    },
    {
      "cell_type": "code",
      "source": [
        "print(\"multiplicate tensor to a tensor:\", tf.matmul(Tmatrix,Tmatrix_aux))"
      ],
      "metadata": {
        "colab": {
          "base_uri": "https://localhost:8080/"
        },
        "id": "_GKbPQQmhRSp",
        "outputId": "25a2d0dc-f46f-4147-b08d-c65743ef6ec1"
      },
      "execution_count": 6,
      "outputs": [
        {
          "output_type": "stream",
          "name": "stdout",
          "text": [
            "multiplicate tensor to a tensor: tf.Tensor(\n",
            "[[ 0.10371249  0.8830891   0.08929522]\n",
            " [ 1.0237408   0.3277694  -2.7927554 ]\n",
            " [-0.62821496  0.14136638 -1.9549872 ]\n",
            " [-1.4867892   2.1854856   3.819861  ]\n",
            " [-1.670201    1.3976151   1.0244255 ]], shape=(5, 3), dtype=float32)\n"
          ]
        }
      ]
    },
    {
      "cell_type": "markdown",
      "source": [
        "# Завдання №3\n",
        "### провести CRUD операції над даними, reshape, інтеграцію з np.array, pd.DataFrame."
      ],
      "metadata": {
        "id": "l4W2xKKDi2g6"
      }
    },
    {
      "cell_type": "code",
      "source": [
        "#Update and delete operations are forbidden for constant tensor because we use variable that update our tensor.\n",
        "Vmatrix = tf.Variable([[1,2,3,4],\n",
        "                      [1,2,3,4],\n",
        "                      [2,5,2,6]])\n",
        "print(\"Update tensor:\")\n",
        "Vmatrix[0].assign([2,5,2,6])"
      ],
      "metadata": {
        "colab": {
          "base_uri": "https://localhost:8080/"
        },
        "id": "jo4nuvmihqDH",
        "outputId": "29de022e-93a5-44ff-b53c-706129000c59"
      },
      "execution_count": 7,
      "outputs": [
        {
          "output_type": "stream",
          "name": "stdout",
          "text": [
            "Update tensor:\n"
          ]
        },
        {
          "output_type": "execute_result",
          "data": {
            "text/plain": [
              "<tf.Variable 'UnreadVariable' shape=(3, 4) dtype=int32, numpy=\n",
              "array([[2, 5, 2, 6],\n",
              "       [1, 2, 3, 4],\n",
              "       [2, 5, 2, 6]], dtype=int32)>"
            ]
          },
          "metadata": {},
          "execution_count": 7
        }
      ]
    },
    {
      "cell_type": "code",
      "source": [
        "data = np.array([])\n",
        "with open(\"tensor.txt\") as f:\n",
        "    for line in f:\n",
        "       data = np.append(data,[float(x) for x in line.split()])\n",
        "TmatrixF = tf.constant(data, shape = (5,2))\n",
        "print(\"Upload from file:\",TmatrixF)"
      ],
      "metadata": {
        "colab": {
          "base_uri": "https://localhost:8080/"
        },
        "id": "FpIcp-7yJ2K6",
        "outputId": "8fffce0b-4c2f-471a-d3eb-5456e2c655b2"
      },
      "execution_count": 13,
      "outputs": [
        {
          "output_type": "stream",
          "name": "stdout",
          "text": [
            "Upload from file: tf.Tensor(\n",
            "[[1. 2.]\n",
            " [3. 4.]\n",
            " [5. 6.]\n",
            " [7. 8.]\n",
            " [9. 0.]], shape=(5, 2), dtype=float64)\n"
          ]
        }
      ]
    },
    {
      "cell_type": "code",
      "source": [
        "resh = np.arange(1, 25)\n",
        "resh"
      ],
      "metadata": {
        "colab": {
          "base_uri": "https://localhost:8080/"
        },
        "id": "IZiI1EYpCTz2",
        "outputId": "e0cb73dd-e800-476c-991d-e6d157f100ac"
      },
      "execution_count": 9,
      "outputs": [
        {
          "output_type": "execute_result",
          "data": {
            "text/plain": [
              "array([ 1,  2,  3,  4,  5,  6,  7,  8,  9, 10, 11, 12, 13, 14, 15, 16, 17,\n",
              "       18, 19, 20, 21, 22, 23, 24])"
            ]
          },
          "metadata": {},
          "execution_count": 9
        }
      ]
    },
    {
      "cell_type": "code",
      "source": [
        "Tmatrix_resh = tf.constant(resh, shape=(6, 4))\n",
        "Tmatrix_resh"
      ],
      "metadata": {
        "colab": {
          "base_uri": "https://localhost:8080/"
        },
        "id": "dF7_Zhyzswer",
        "outputId": "df52fff5-24f6-4410-9bbd-203c8a0e4adf"
      },
      "execution_count": 10,
      "outputs": [
        {
          "output_type": "execute_result",
          "data": {
            "text/plain": [
              "<tf.Tensor: shape=(6, 4), dtype=int64, numpy=\n",
              "array([[ 1,  2,  3,  4],\n",
              "       [ 5,  6,  7,  8],\n",
              "       [ 9, 10, 11, 12],\n",
              "       [13, 14, 15, 16],\n",
              "       [17, 18, 19, 20],\n",
              "       [21, 22, 23, 24]])>"
            ]
          },
          "metadata": {},
          "execution_count": 10
        }
      ]
    },
    {
      "cell_type": "code",
      "source": [
        "first_arr = [1, 2, 3, 4, 5, 6, 7, 8]\n",
        "second_arr = [10, 11, 12, 13, 14, 15, 16 ,17]\n",
        "df = pd.DataFrame({'fisrt':first_arr,\n",
        "                  'second':second_arr})\n",
        "df"
      ],
      "metadata": {
        "colab": {
          "base_uri": "https://localhost:8080/",
          "height": 300
        },
        "id": "61j4ZT6S0An4",
        "outputId": "c2d59850-2071-4c3f-b275-b844f5712a2a"
      },
      "execution_count": 11,
      "outputs": [
        {
          "output_type": "execute_result",
          "data": {
            "text/plain": [
              "   fisrt  second\n",
              "0      1      10\n",
              "1      2      11\n",
              "2      3      12\n",
              "3      4      13\n",
              "4      5      14\n",
              "5      6      15\n",
              "6      7      16\n",
              "7      8      17"
            ],
            "text/html": [
              "\n",
              "  <div id=\"df-f91b3abe-b6d1-4f8d-9128-e847875f2261\">\n",
              "    <div class=\"colab-df-container\">\n",
              "      <div>\n",
              "<style scoped>\n",
              "    .dataframe tbody tr th:only-of-type {\n",
              "        vertical-align: middle;\n",
              "    }\n",
              "\n",
              "    .dataframe tbody tr th {\n",
              "        vertical-align: top;\n",
              "    }\n",
              "\n",
              "    .dataframe thead th {\n",
              "        text-align: right;\n",
              "    }\n",
              "</style>\n",
              "<table border=\"1\" class=\"dataframe\">\n",
              "  <thead>\n",
              "    <tr style=\"text-align: right;\">\n",
              "      <th></th>\n",
              "      <th>fisrt</th>\n",
              "      <th>second</th>\n",
              "    </tr>\n",
              "  </thead>\n",
              "  <tbody>\n",
              "    <tr>\n",
              "      <th>0</th>\n",
              "      <td>1</td>\n",
              "      <td>10</td>\n",
              "    </tr>\n",
              "    <tr>\n",
              "      <th>1</th>\n",
              "      <td>2</td>\n",
              "      <td>11</td>\n",
              "    </tr>\n",
              "    <tr>\n",
              "      <th>2</th>\n",
              "      <td>3</td>\n",
              "      <td>12</td>\n",
              "    </tr>\n",
              "    <tr>\n",
              "      <th>3</th>\n",
              "      <td>4</td>\n",
              "      <td>13</td>\n",
              "    </tr>\n",
              "    <tr>\n",
              "      <th>4</th>\n",
              "      <td>5</td>\n",
              "      <td>14</td>\n",
              "    </tr>\n",
              "    <tr>\n",
              "      <th>5</th>\n",
              "      <td>6</td>\n",
              "      <td>15</td>\n",
              "    </tr>\n",
              "    <tr>\n",
              "      <th>6</th>\n",
              "      <td>7</td>\n",
              "      <td>16</td>\n",
              "    </tr>\n",
              "    <tr>\n",
              "      <th>7</th>\n",
              "      <td>8</td>\n",
              "      <td>17</td>\n",
              "    </tr>\n",
              "  </tbody>\n",
              "</table>\n",
              "</div>\n",
              "      <button class=\"colab-df-convert\" onclick=\"convertToInteractive('df-f91b3abe-b6d1-4f8d-9128-e847875f2261')\"\n",
              "              title=\"Convert this dataframe to an interactive table.\"\n",
              "              style=\"display:none;\">\n",
              "        \n",
              "  <svg xmlns=\"http://www.w3.org/2000/svg\" height=\"24px\"viewBox=\"0 0 24 24\"\n",
              "       width=\"24px\">\n",
              "    <path d=\"M0 0h24v24H0V0z\" fill=\"none\"/>\n",
              "    <path d=\"M18.56 5.44l.94 2.06.94-2.06 2.06-.94-2.06-.94-.94-2.06-.94 2.06-2.06.94zm-11 1L8.5 8.5l.94-2.06 2.06-.94-2.06-.94L8.5 2.5l-.94 2.06-2.06.94zm10 10l.94 2.06.94-2.06 2.06-.94-2.06-.94-.94-2.06-.94 2.06-2.06.94z\"/><path d=\"M17.41 7.96l-1.37-1.37c-.4-.4-.92-.59-1.43-.59-.52 0-1.04.2-1.43.59L10.3 9.45l-7.72 7.72c-.78.78-.78 2.05 0 2.83L4 21.41c.39.39.9.59 1.41.59.51 0 1.02-.2 1.41-.59l7.78-7.78 2.81-2.81c.8-.78.8-2.07 0-2.86zM5.41 20L4 18.59l7.72-7.72 1.47 1.35L5.41 20z\"/>\n",
              "  </svg>\n",
              "      </button>\n",
              "      \n",
              "  <style>\n",
              "    .colab-df-container {\n",
              "      display:flex;\n",
              "      flex-wrap:wrap;\n",
              "      gap: 12px;\n",
              "    }\n",
              "\n",
              "    .colab-df-convert {\n",
              "      background-color: #E8F0FE;\n",
              "      border: none;\n",
              "      border-radius: 50%;\n",
              "      cursor: pointer;\n",
              "      display: none;\n",
              "      fill: #1967D2;\n",
              "      height: 32px;\n",
              "      padding: 0 0 0 0;\n",
              "      width: 32px;\n",
              "    }\n",
              "\n",
              "    .colab-df-convert:hover {\n",
              "      background-color: #E2EBFA;\n",
              "      box-shadow: 0px 1px 2px rgba(60, 64, 67, 0.3), 0px 1px 3px 1px rgba(60, 64, 67, 0.15);\n",
              "      fill: #174EA6;\n",
              "    }\n",
              "\n",
              "    [theme=dark] .colab-df-convert {\n",
              "      background-color: #3B4455;\n",
              "      fill: #D2E3FC;\n",
              "    }\n",
              "\n",
              "    [theme=dark] .colab-df-convert:hover {\n",
              "      background-color: #434B5C;\n",
              "      box-shadow: 0px 1px 3px 1px rgba(0, 0, 0, 0.15);\n",
              "      filter: drop-shadow(0px 1px 2px rgba(0, 0, 0, 0.3));\n",
              "      fill: #FFFFFF;\n",
              "    }\n",
              "  </style>\n",
              "\n",
              "      <script>\n",
              "        const buttonEl =\n",
              "          document.querySelector('#df-f91b3abe-b6d1-4f8d-9128-e847875f2261 button.colab-df-convert');\n",
              "        buttonEl.style.display =\n",
              "          google.colab.kernel.accessAllowed ? 'block' : 'none';\n",
              "\n",
              "        async function convertToInteractive(key) {\n",
              "          const element = document.querySelector('#df-f91b3abe-b6d1-4f8d-9128-e847875f2261');\n",
              "          const dataTable =\n",
              "            await google.colab.kernel.invokeFunction('convertToInteractive',\n",
              "                                                     [key], {});\n",
              "          if (!dataTable) return;\n",
              "\n",
              "          const docLinkHtml = 'Like what you see? Visit the ' +\n",
              "            '<a target=\"_blank\" href=https://colab.research.google.com/notebooks/data_table.ipynb>data table notebook</a>'\n",
              "            + ' to learn more about interactive tables.';\n",
              "          element.innerHTML = '';\n",
              "          dataTable['output_type'] = 'display_data';\n",
              "          await google.colab.output.renderOutput(dataTable, element);\n",
              "          const docLink = document.createElement('div');\n",
              "          docLink.innerHTML = docLinkHtml;\n",
              "          element.appendChild(docLink);\n",
              "        }\n",
              "      </script>\n",
              "    </div>\n",
              "  </div>\n",
              "  "
            ]
          },
          "metadata": {},
          "execution_count": 11
        }
      ]
    },
    {
      "cell_type": "code",
      "source": [
        "TmatrixD = tf.constant(df)\n",
        "TmatrixD"
      ],
      "metadata": {
        "colab": {
          "base_uri": "https://localhost:8080/"
        },
        "id": "WyDHGjtl98gy",
        "outputId": "4186d2e9-889e-4d70-94b5-d5752add959d"
      },
      "execution_count": 12,
      "outputs": [
        {
          "output_type": "execute_result",
          "data": {
            "text/plain": [
              "<tf.Tensor: shape=(8, 2), dtype=int64, numpy=\n",
              "array([[ 1, 10],\n",
              "       [ 2, 11],\n",
              "       [ 3, 12],\n",
              "       [ 4, 13],\n",
              "       [ 5, 14],\n",
              "       [ 6, 15],\n",
              "       [ 7, 16],\n",
              "       [ 8, 17]])>"
            ]
          },
          "metadata": {},
          "execution_count": 12
        }
      ]
    },
    {
      "cell_type": "markdown",
      "source": [
        "# Висновок\n",
        "### В ході виконання лабораторної роботи було розглянуто бібліотеку tensorflow. За допомогою цієї бібліотеки ми створювали тензори різного рангу, також розглянули різні види заповнення тензорів. Попрацювали з властивостями та математичними операціями над тензорами. Також провели CRUD операції і зробили інтеграцію з np.array та DataFrame в тензор. Тензор в основному використовують, як ваговы коефіцієнти для навчання нейронних мерж."
      ],
      "metadata": {
        "id": "Lc3i3sTiDSmA"
      }
    },
    {
      "cell_type": "code",
      "source": [
        ""
      ],
      "metadata": {
        "id": "aWqzZoJTEEy8"
      },
      "execution_count": null,
      "outputs": []
    }
  ]
}
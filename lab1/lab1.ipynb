{
  "nbformat": 4,
  "nbformat_minor": 0,
  "metadata": {
    "colab": {
      "name": "lab1.ipynb",
      "provenance": [],
      "toc_visible": true,
      "authorship_tag": "ABX9TyPeu7Z3NaxN4P3kBUqw/r57",
      "include_colab_link": true
    },
    "kernelspec": {
      "name": "python3",
      "display_name": "Python 3"
    },
    "language_info": {
      "name": "python"
    },
    "accelerator": "GPU"
  },
  "cells": [
    {
      "cell_type": "markdown",
      "metadata": {
        "id": "view-in-github",
        "colab_type": "text"
      },
      "source": [
        "<a href=\"https://colab.research.google.com/github/D3stro9er/neural-networks/blob/main/lab1/lab1.ipynb\" target=\"_parent\"><img src=\"https://colab.research.google.com/assets/colab-badge.svg\" alt=\"Open In Colab\"/></a>"
      ]
    },
    {
      "cell_type": "markdown",
      "source": [
        "#Лабораторна робота №1\n",
        "####студента групи Анд-31\n",
        "#### Українець Андрій \n",
        "####Варіант №11"
      ],
      "metadata": {
        "id": "DSAFHdiSBKAr"
      }
    },
    {
      "cell_type": "markdown",
      "source": [
        "#Завдання №1\n",
        "####NumPy (створити набір даних (розмір за власним рішенням), провести CRUD операції над даними (скаляр, вектор, матриця)). Властивість shape та метод  reshape. Операції над масивами. Використати arange, random.\n"
      ],
      "metadata": {
        "id": "YcXFWv_yBeUl"
      }
    },
    {
      "cell_type": "code",
      "execution_count": 3,
      "metadata": {
        "id": "rpHCkqwV4yh5"
      },
      "outputs": [],
      "source": [
        "import numpy as np\n",
        "scal = 5\n",
        "mas = np.array([1,2,3])\n",
        "matr = np.array([[1,2,3],\n",
        "                 [2,4,1],\n",
        "                 [2,3,5]])\n",
        "\n"
      ]
    },
    {
      "cell_type": "markdown",
      "source": [
        "#Завдання №2\n",
        "####Pandas (створити dataframe різними способами, провести маніпуляції з даними (head, describe, iloc, loc, індексація з умовами відбору, групування, пошук «пустих» значень, сортування..)"
      ],
      "metadata": {
        "id": "-MeAOB_hCFgh"
      }
    },
    {
      "cell_type": "code",
      "source": [
        ""
      ],
      "metadata": {
        "id": "JTfDY57hCOJx"
      },
      "execution_count": null,
      "outputs": []
    }
  ]
}